{
 "cells": [
  {
   "cell_type": "markdown",
   "metadata": {},
   "source": [
    "# Question 1:\n",
    "### Make a 9x9 numpy array filled with the repeating pattern 1,2,3,1,2,3,..."
   ]
  },
  {
   "cell_type": "code",
   "execution_count": 5,
   "metadata": {},
   "outputs": [
    {
     "name": "stdout",
     "output_type": "stream",
     "text": [
      "[[1. 2. 3. 1. 2. 3. 1. 2. 3.]\n",
      " [1. 2. 3. 1. 2. 3. 1. 2. 3.]\n",
      " [1. 2. 3. 1. 2. 3. 1. 2. 3.]\n",
      " [1. 2. 3. 1. 2. 3. 1. 2. 3.]\n",
      " [1. 2. 3. 1. 2. 3. 1. 2. 3.]\n",
      " [1. 2. 3. 1. 2. 3. 1. 2. 3.]\n",
      " [1. 2. 3. 1. 2. 3. 1. 2. 3.]\n",
      " [1. 2. 3. 1. 2. 3. 1. 2. 3.]\n",
      " [1. 2. 3. 1. 2. 3. 1. 2. 3.]]\n"
     ]
    }
   ],
   "source": [
    "import numpy\n",
    "\n",
    "arr = numpy.zeros((9,9))\n",
    "tup = (1,2,3,1,2,3,1,2,3)\n",
    "for i in range(0,9) :\n",
    "    arr[i] = tup\n",
    "print(arr)"
   ]
  },
  {
   "cell_type": "markdown",
   "metadata": {},
   "source": [
    "# Question 2:\n",
    "### Write a function that performs min-max scaling on a numpy array across rows \n",
    "\n",
    "## Example:\n",
    "\n",
    "### Input \n",
    "$\\begin{bmatrix}1& 2& 3\\\\10 & 15 & 20 \\\\ -5 & -11&  9\\end{bmatrix}$\n",
    "    \n",
    "### Output\n",
    "$\\begin{bmatrix} 0 & 0.5 & 1 \\\\ 0 & 0.5 & 1 \\\\ 0.3 & 0 & 1 \\end{bmatrix}$\n"
   ]
  },
  {
   "cell_type": "code",
   "execution_count": 75,
   "metadata": {},
   "outputs": [
    {
     "name": "stdout",
     "output_type": "stream",
     "text": [
      "[[0.  0.5 1. ]\n",
      " [0.  0.5 1. ]\n",
      " [0.3 0.  1. ]]\n"
     ]
    }
   ],
   "source": [
    "# Answer 2 - using for loops\n",
    "import numpy\n",
    "\n",
    "def scalingWithFor() :\n",
    "    arr = numpy.array([[1,2,3] , [10,15,20] , [-5,-11,9]]).astype(float)\n",
    "    for i in range(0,3) :\n",
    "        min = arr[i].min(axis=0)\n",
    "        max = arr[i].max(axis=0)\n",
    "        for j in range(0,3) :\n",
    "            arr[i][j] = (arr[i][j] - min) / (max - min)\n",
    "    print(arr)\n",
    "    \n",
    "scalingWithFor()"
   ]
  },
  {
   "cell_type": "code",
   "execution_count": 76,
   "metadata": {},
   "outputs": [
    {
     "name": "stdout",
     "output_type": "stream",
     "text": [
      "[[0.  0.5 1. ]\n",
      " [0.  0.5 1. ]\n",
      " [0.3 0.  1. ]]\n"
     ]
    }
   ],
   "source": [
    "# Answer 2 - without using for loops\n",
    "def scalingWithoutFor() :\n",
    "    arr = numpy.array([[1,2,3] , [10,15,20] , [-5,-11,9]]).astype(float)\n",
    "    min = arr.min(axis=1).reshape(3,1)\n",
    "    minarr = numpy.tile(min , 3)\n",
    "    max = arr.max(axis=1).reshape(3,1)\n",
    "    maxarr = numpy.tile(max , 3)\n",
    "    arr = (arr - minarr)/(maxarr - minarr)\n",
    "    print(arr)\n",
    "\n",
    "scalingWithoutFor()"
   ]
  },
  {
   "cell_type": "markdown",
   "metadata": {},
   "source": [
    "# Question 3:\n",
    "### Find index of the element of the array which is closest to a given value\n",
    "\n",
    "## Example:\n",
    "\n",
    "### Input \n",
    "$\\begin{bmatrix}4.5& -5& 83\\\\5.11 & 5.25 & 20 \\\\ -5 & 42&  69.99\\end{bmatrix}$\n",
    "    \n",
    "val = 5\n",
    "\n",
    "### Output\n",
    "\n",
    "index = (1, 0)\n"
   ]
  },
  {
   "cell_type": "code",
   "execution_count": 40,
   "metadata": {},
   "outputs": [
    {
     "name": "stdout",
     "output_type": "stream",
     "text": [
      "[1, 0]\n"
     ]
    }
   ],
   "source": [
    "# Answer 3 - using for loops\n",
    "import numpy\n",
    "\n",
    "def closest(arr , value) :\n",
    "    narr = numpy.array(x , dtype = numpy.float64)\n",
    "    index = [0, 0]\n",
    "    min = abs(narr[0][0] - value)\n",
    "    for i in range(0,narr.shape[0]) :\n",
    "        for j in range(0,narr.shape[1]) :\n",
    "             if(abs(narr[i][j] - value) < min) :\n",
    "                    min = abs(narr[i][j] - value)\n",
    "                    index = [i , j]\n",
    "    print(index)\n",
    "    \n",
    "x = [[4.5, -5, 83], [5.11, 5.25, 20], [-5, 42, 69.99]]\n",
    "val = 5\n",
    "closest(x , val)"
   ]
  },
  {
   "cell_type": "code",
   "execution_count": 47,
   "metadata": {},
   "outputs": [
    {
     "name": "stdout",
     "output_type": "stream",
     "text": [
      "(1, 0)\n"
     ]
    }
   ],
   "source": [
    "# Answer 3 - without using for loops\n",
    "import numpy\n",
    "\n",
    "def closestWithoutLoop(arr , value) :\n",
    "    narr = numpy.array(x , dtype = numpy.float64)\n",
    "    minarr = abs(narr - value)\n",
    "    flattened_index = numpy.argmin(minarr)\n",
    "    index = (int(flattened_index / narr.shape[1]) , int(flattened_index % narr.shape[1])) \n",
    "    print(index)\n",
    "    \n",
    "x = [[4.5, -5, 83], [5.11, 5.25, 20], [-5, 42, 69.99]]\n",
    "val = 5\n",
    "closestWithoutLoop(x , val)"
   ]
  },
  {
   "cell_type": "markdown",
   "metadata": {},
   "source": [
    "# Question 4:\n",
    "### Implement A sliding window average of a given array\n",
    "\n",
    "Example: https://www.youtube.com/watch?v=ZoaEDbivmOE"
   ]
  },
  {
   "cell_type": "code",
   "execution_count": 55,
   "metadata": {},
   "outputs": [
    {
     "name": "stdout",
     "output_type": "stream",
     "text": [
      "[[ 0  0  0  0  0  0  0  0  0]\n",
      " [ 0  0 10 20 30 30 20 10  0]\n",
      " [ 0  0 20 30 50 50 40 20  0]\n",
      " [ 0  0 30 50 80 80 60 30  0]\n",
      " [ 0  0 30 50 80 80 60 30  0]\n",
      " [ 0  0 30 60 90 90 60 30  0]\n",
      " [ 0 10 30 40 60 60 40 20  0]\n",
      " [ 0 10 20 20 30 30 20 10  0]\n",
      " [ 0  0  0  0  0  0  0  0  0]\n",
      " [ 0  0  0  0  0  0  0  0  0]]\n"
     ]
    }
   ],
   "source": [
    "# Answer 4 - using for loops\n",
    "import numpy\n",
    "\n",
    "def windowavg(arr , a , b) :\n",
    "    sum = 0\n",
    "    for i in range(a-1 , a+2) :\n",
    "        for j in range(b-1 , b+2) :\n",
    "           sum += arr[i][j]\n",
    "    return float(sum/9)\n",
    "    \n",
    "#Assumption is that the input array is a square matrix and size of window is taken to be fixed, equal to 3\n",
    "def slidingAverage(arr) :\n",
    "    narr = numpy.array(arr)\n",
    "    copyarr = narr.copy()\n",
    "    length = narr.shape[0]\n",
    "    for i in range(1,length-2) :\n",
    "        for j in range(1,length-2) :\n",
    "            narr[i][j] = windowavg(copyarr , i,j)\n",
    "    print(narr)\n",
    "    \n",
    "x = [[0,0, 0,0 ,0, 0, 0, 0,0],\n",
    "     [0,0, 0,0, 0, 0, 0, 0,0],\n",
    "     [0,0, 0,90,90,90,90,0,0],\n",
    "     [0,0, 0,90,0, 90,90,0,0],\n",
    "     [0,0, 0,90,90,90,90,0,0],\n",
    "     [0,0, 0,90,90,90,90,0,0],\n",
    "     [0,0, 0,90,90,90,90,0,0],\n",
    "     [0,90,0,0 ,0, 0, 0, 0,0],\n",
    "     [0,0, 0,0 ,0, 0, 0, 0,0],\n",
    "     [0,0, 0,0 ,0, 0, 0, 0,0],]\n",
    "slidingAverage(x)"
   ]
  },
  {
   "cell_type": "markdown",
   "metadata": {},
   "source": [
    "# (Optional) Question 5\n",
    "### Implement John Conway's Game of Life\n",
    "\n",
    "You can read about the rules of the game and play it at: https://bitstorm.org/gameoflife/"
   ]
  },
  {
   "cell_type": "code",
   "execution_count": 88,
   "metadata": {},
   "outputs": [
    {
     "name": "stdout",
     "output_type": "stream",
     "text": [
      "[[1 1 1 0 1 1 0 1 0 1]\n",
      " [0 0 0 1 0 0 0 0 1 0]\n",
      " [1 0 1 1 0 1 1 1 0 1]\n",
      " [0 0 0 0 0 1 0 0 0 0]\n",
      " [1 0 0 0 0 0 0 0 1 1]\n",
      " [1 0 1 1 0 1 0 1 0 1]\n",
      " [1 0 0 0 1 1 0 0 0 1]\n",
      " [0 0 0 0 0 0 0 1 0 0]\n",
      " [1 0 1 1 1 1 1 0 0 0]\n",
      " [1 1 0 0 1 0 0 0 0 1]]\n",
      "[[1 1 1 0 1 1 0 1 0 1]\n",
      " [0 0 0 0 0 0 0 0 1 0]\n",
      " [1 0 1 1 1 0 1 1 0 1]\n",
      " [0 1 1 0 1 0 0 1 0 0]\n",
      " [1 0 0 0 1 1 0 1 1 1]\n",
      " [1 0 1 0 0 0 0 1 0 1]\n",
      " [1 1 0 0 1 1 1 1 0 1]\n",
      " [0 0 1 0 0 0 0 0 0 0]\n",
      " [1 0 1 1 1 1 1 0 0 0]\n",
      " [1 1 0 0 1 0 0 0 0 1]]\n",
      "[[1 1 1 0 1 1 0 1 0 1]\n",
      " [0 0 0 0 0 0 0 0 1 0]\n",
      " [1 0 0 0 1 1 0 1 0 1]\n",
      " [0 0 0 1 0 0 0 0 0 0]\n",
      " [1 1 1 0 1 1 1 0 1 1]\n",
      " [1 0 0 1 0 0 0 0 0 1]\n",
      " [1 0 0 1 0 1 1 1 0 1]\n",
      " [0 0 0 0 0 0 0 1 0 0]\n",
      " [1 0 1 1 1 1 1 0 0 0]\n",
      " [1 1 0 0 1 0 0 0 0 1]]\n",
      "[[1 1 1 0 1 1 0 1 0 1]\n",
      " [0 0 0 1 0 0 0 1 1 0]\n",
      " [1 0 0 1 0 0 0 1 0 1]\n",
      " [0 0 0 0 1 0 1 0 0 0]\n",
      " [1 0 1 0 0 0 1 1 1 1]\n",
      " [1 0 1 0 0 1 0 0 0 1]\n",
      " [1 1 1 1 1 0 0 1 0 1]\n",
      " [0 0 0 0 0 0 0 1 0 0]\n",
      " [1 0 1 1 1 1 1 0 0 0]\n",
      " [1 1 0 0 1 0 0 0 0 1]]\n",
      "[[1 1 1 0 1 1 0 1 0 1]\n",
      " [0 0 0 0 1 1 0 0 1 0]\n",
      " [1 0 0 1 0 0 1 0 0 1]\n",
      " [0 1 1 0 1 0 0 0 0 0]\n",
      " [1 0 0 1 1 0 1 1 1 1]\n",
      " [1 0 0 0 0 0 1 0 0 1]\n",
      " [1 0 1 1 1 0 1 0 0 1]\n",
      " [0 0 0 0 0 0 0 1 0 0]\n",
      " [1 0 1 1 1 1 1 0 0 0]\n",
      " [1 1 0 0 1 0 0 0 0 1]]\n",
      "[[1 1 1 0 1 1 0 1 0 1]\n",
      " [0 0 1 0 0 0 1 0 1 0]\n",
      " [1 0 0 0 0 1 1 1 0 1]\n",
      " [0 0 1 0 0 0 0 0 0 0]\n",
      " [1 1 1 0 0 0 1 0 1 1]\n",
      " [1 0 0 0 0 0 1 0 0 1]\n",
      " [1 1 1 1 1 1 0 0 0 1]\n",
      " [0 0 0 0 0 0 0 1 0 0]\n",
      " [1 0 1 1 1 1 1 0 0 0]\n",
      " [1 1 0 0 1 0 0 0 0 1]]\n",
      "[[1 1 1 0 1 1 0 1 0 1]\n",
      " [0 0 1 1 0 0 0 0 1 0]\n",
      " [1 1 0 1 1 1 1 1 0 1]\n",
      " [0 0 0 1 0 0 0 0 0 0]\n",
      " [1 0 1 0 0 0 1 1 1 1]\n",
      " [1 0 0 0 1 0 0 1 0 1]\n",
      " [1 0 1 0 1 1 1 1 0 1]\n",
      " [0 0 1 0 0 0 0 0 0 0]\n",
      " [1 0 1 1 1 1 1 0 0 0]\n",
      " [1 1 0 0 1 0 0 0 0 1]]\n",
      "[[1 1 1 0 1 1 0 1 0 1]\n",
      " [0 0 0 0 0 0 0 0 1 0]\n",
      " [1 1 1 0 1 1 1 1 0 1]\n",
      " [0 0 0 0 0 0 0 0 0 0]\n",
      " [1 1 1 0 0 0 1 0 1 1]\n",
      " [1 0 1 0 1 0 0 0 0 1]\n",
      " [1 0 1 0 1 0 1 1 0 1]\n",
      " [0 0 0 0 0 0 0 1 0 0]\n",
      " [1 0 1 1 1 1 1 0 0 0]\n",
      " [1 1 0 0 1 0 0 0 0 1]]\n",
      "[[1 1 1 0 1 1 0 1 0 1]\n",
      " [0 0 0 0 0 0 0 0 1 0]\n",
      " [1 1 1 0 1 1 1 1 0 1]\n",
      " [0 0 0 1 1 0 0 0 0 0]\n",
      " [1 0 1 0 1 0 0 0 1 1]\n",
      " [1 0 1 0 1 0 0 1 0 1]\n",
      " [1 0 1 0 1 1 0 1 0 1]\n",
      " [0 0 1 0 0 0 0 1 0 0]\n",
      " [1 0 1 1 1 1 1 0 0 0]\n",
      " [1 1 0 0 1 0 0 0 0 1]]\n",
      "[[1 1 1 0 1 1 0 1 0 1]\n",
      " [0 0 0 0 0 0 0 0 1 0]\n",
      " [1 1 1 0 0 1 1 1 0 1]\n",
      " [0 0 0 0 1 0 1 0 0 0]\n",
      " [1 0 1 0 1 0 0 1 1 1]\n",
      " [1 0 1 0 0 1 0 0 0 1]\n",
      " [1 0 1 0 1 1 0 1 0 1]\n",
      " [0 0 0 0 0 0 0 1 0 0]\n",
      " [1 0 1 1 1 1 1 0 0 0]\n",
      " [1 1 0 0 1 0 0 0 0 1]]\n"
     ]
    }
   ],
   "source": [
    "import numpy\n",
    "\n",
    "def countNeibhours(b , i , j) :\n",
    "    count = numpy.sum(a[i-1 : i + 2 , j - 1 : j + 2])\n",
    "    return count\n",
    "\n",
    "a = numpy.random.randint(2 , size = (10 , 10))\n",
    "for x in range(0 , 10) :\n",
    "    b = a.copy()\n",
    "    for i in range(1 , 8) :\n",
    "        for j in range(1 , 8) :\n",
    "            count = countNeibhours(b , i , j)\n",
    "            if a[i][j]:\n",
    "                if count < 2 or count >3 :\n",
    "                    a[i][j] = 0\n",
    "            elif count ==3 :\n",
    "                a[i][j] = 1\n",
    "    print(a)"
   ]
  },
  {
   "cell_type": "markdown",
   "metadata": {},
   "source": [
    "# Final Task \n",
    "## Implement edge detection using a Sobel Filter\n",
    "Read more about Sobel filter : [Wikipedia article](https://en.wikipedia.org/wiki/Sobel_operator \"Sobel Operator\")\n",
    "Some sample code to display the results is already given\n",
    "\n"
   ]
  },
  {
   "cell_type": "code",
   "execution_count": 78,
   "metadata": {},
   "outputs": [
    {
     "name": "stdout",
     "output_type": "stream",
     "text": [
      "(148, 198)\n"
     ]
    },
    {
     "data": {
      "image/png": "[encoded data removed]",
      "text/plain": [
       "<Figure size 432x288 with 4 Axes>"
      ]
     },
     "metadata": {
      "needs_background": "light"
     },
     "output_type": "display_data"
    }
   ],
   "source": [
    "%matplotlib inline\n",
    "# Note: DO NOT USE THE SCIPY INBUILT FUNCTION. CONVOLVE USING FILTERS AND NORMALIZE\n",
    "import scipy\n",
    "import imageio\n",
    "import matplotlib.pyplot as plt\n",
    "import numpy as np\n",
    "\n",
    "im = imageio.imread('./fig01.jpg').astype(\"int32\")\n",
    "grey_img = None #convert image to greyscale \n",
    "\n",
    "grey_shape = list(im.shape)\n",
    "grey_shape[-1] = 1\n",
    "grey_shape = tuple(grey_shape)\n",
    "\n",
    "# assert grey_img.shape == grey_shape\n",
    "ax1 = plt.subplot(323)\n",
    "ax2 = plt.subplot(322)\n",
    "ax3 = plt.subplot(324)\n",
    "ax4 = plt.subplot(326)\n",
    "\n",
    "## Initializing the sobel filter\n",
    "filterx = np.array(   [[ 3, 0 , -3 ],\n",
    "                      [ 10, 0 , -10],\n",
    "                      [ 3 , 0 , -3 ]])\n",
    "filtery = filterx.T\n",
    "\n",
    "## Fill the code below\n",
    "\n",
    "def convulateOperator(ker , img , a , b) :\n",
    "    # Extracting a 3x3 matrix from the entire image based on the central value\n",
    "    new_img = np.zeros((3,3))\n",
    "    for i in range(a - 1 , a + 2) :\n",
    "        for j in range(b - 1 , b + 2) :\n",
    "            new_img[i - a][j - b] = img[i][j]\n",
    "    value = 0\n",
    "    for i in range(0 , 3) :\n",
    "        for j in range(0 , 3) :\n",
    "            value += new_img[i][j] * ker[2-i][2-j]\n",
    "    return value\n",
    "\n",
    "dx = np.zeros((im.shape[0] - 2 , im.shape[1] - 2))\n",
    "dy = np.zeros((im.shape[0] - 2 , im.shape[1] - 2))\n",
    "for i in range(1 , im.shape[0] - 1) :\n",
    "    for j in range(1 , im.shape[1] - 1) :\n",
    "        dx[i - 1][j - 1] = convulateOperator(filterx , im , i , j)\n",
    "        dy[i - 1][j - 1] = convulateOperator(filtery , im , i , j)\n",
    "        \n",
    "def scalingWithoutFor(x) :\n",
    "    arr = numpy.array(x).astype(float)\n",
    "    min = arr.min(axis=1).reshape(-1,1)\n",
    "    minarr = numpy.tile(min , arr.shape[1])\n",
    "    max = arr.max(axis=1).reshape(-1,1)\n",
    "    maxarr = numpy.tile(max , arr.shape[1])\n",
    "    arr = (arr - minarr)/(maxarr - minarr)\n",
    "    return arr\n",
    "\n",
    "mag =  np.sqrt(dx ** 2 + dy ** 2)\n",
    "print(mag.shape)\n",
    "normalized = scalingWithoutFor(mag) \n",
    "\n",
    "## End\n",
    "## Plot it\n",
    "ax1.imshow(im)\n",
    "ax2.imshow(dx)\n",
    "ax3.imshow(dy)\n",
    "ax4.imshow(normalized)\n",
    "plt.show()"
   ]
  },
  {
   "cell_type": "markdown",
   "metadata": {},
   "source": [
    "# All Done?\n",
    "## Checkout these advanced guides\n",
    "\n",
    "### [Advanced Numpy](https://scipy-lectures.org/advanced/advanced_numpy/index.html)\n",
    "### [Image Processing](https://scipy-lectures.org/advanced/image_processing/index.html)"
   ]
  },
  {
   "cell_type": "code",
   "execution_count": null,
   "metadata": {},
   "outputs": [],
   "source": []
  }
 ],
 "metadata": {
  "kernelspec": {
   "display_name": "Python 3",
   "language": "python",
   "name": "python3"
  },
  "language_info": {
   "codemirror_mode": {
    "name": "ipython",
    "version": 3
   },
   "file_extension": ".py",
   "mimetype": "text/x-python",
   "name": "python",
   "nbconvert_exporter": "python",
   "pygments_lexer": "ipython3",
   "version": "3.7.3"
  }
 },
 "nbformat": 4,
 "nbformat_minor": 2
}
